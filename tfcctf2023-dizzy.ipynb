{
 "cells": [
  {
   "cell_type": "markdown",
   "metadata": {},
   "source": [
    "#### Question:\n",
    "Embark on 'Dizzy', a carousel ride through cryptography! This warmup challenge spins you around the basics of ciphers and keys. Sharpen your mind, find the flag, and remember - in crypto, it's fun to get a little dizzy!\n",
    "\n",
    "' T4 l16 _36 510 _27 s26 _11 320 414 {6 }39 C2 T0 m28 317 y35 d31 F1 m22 g19 d38 z34 423 l15 329 c12 ;37 19 h13 _30 F5 t7 C3 325 z33 _21 h8 n18 132 k24 '"
   ]
  },
  {
   "cell_type": "markdown",
   "metadata": {},
   "source": [
    "* Based on analysis of 'https://www.dcode.fr/cipher-identifier',\n",
    " the aforementioned string is either 'Letters Positions' or 'Grid Coordinates'"
   ]
  },
  {
   "cell_type": "markdown",
   "metadata": {},
   "source": [
    "##### Letters Positions"
   ]
  },
  {
   "cell_type": "code",
   "execution_count": 18,
   "metadata": {},
   "outputs": [],
   "source": [
    "code_string = \"T4 l16 _36 510 _27 s26 _11 320 414 {6 }39 C2 T0 m28 317 y35 d31 F1 m22 g19 d38 z34 423 l15 329 c12 ;37 19 h13 _30 F5 t7 C3 325 z33 _21 h8 n18 132 k24\""
   ]
  },
  {
   "cell_type": "code",
   "execution_count": 19,
   "metadata": {},
   "outputs": [
    {
     "name": "stdout",
     "output_type": "stream",
     "text": [
      "l\n",
      "15\n",
      "40\n"
     ]
    }
   ],
   "source": [
    "list_code_string = code_string.split()\n",
    "print(list_code_string[23][0])\n",
    "print(list_code_string[23][1:])\n",
    "print(len(list_code_string))"
   ]
  },
  {
   "cell_type": "code",
   "execution_count": 20,
   "metadata": {},
   "outputs": [
    {
     "name": "stdout",
     "output_type": "stream",
     "text": [
      "['T', 'l', '_', '5', '_', 's', '_', '3', '4', '{', '}', 'C', 'T', 'm', '3', 'y', 'd', 'F', 'm', 'g', 'd', 'z', '4', 'l', '3', 'c', ';', '1', 'h', '_', 'F', 't', 'C', '3', 'z', '_', 'h', 'n', '1', 'k']\n",
      "[4, 16, 36, 10, 27, 26, 11, 20, 14, 6, 39, 2, 0, 28, 17, 35, 31, 1, 22, 19, 38, 34, 23, 15, 29, 12, 37, 9, 13, 30, 5, 7, 3, 25, 33, 21, 8, 18, 32, 24]\n"
     ]
    }
   ],
   "source": [
    "char_list = []\n",
    "char_position = []\n",
    "for i in range(len(list_code_string)):\n",
    "    char_list.append(list_code_string[i][0])\n",
    "    char_position.append(int(list_code_string[i][1:]))\n",
    "print(char_list)\n",
    "print(char_position)"
   ]
  },
  {
   "cell_type": "code",
   "execution_count": 24,
   "metadata": {},
   "outputs": [
    {
     "name": "stdout",
     "output_type": "stream",
     "text": [
      "['T', 'F', 'C', 'C', 'T', 'F', '{', 't', 'h', '1', '5', '_', 'c', 'h', '4', 'l', 'l', '3', 'n', 'g', '3', '_', 'm', '4', 'k', '3', 's', '_', 'm', '3', '_', 'd', '1', 'z', 'z', 'y', '_', ';', 'd', '}', '#', '#', '#', '#', '#', '#', '#', '#', '#', '#', '#', '#', '#', '#', '#', '#', '#', '#', '#', '#', '#', '#', '#', '#', '#', '#', '#', '#', '#', '#', '#', '#', '#', '#', '#', '#', '#', '#', '#', '#', '#', '#', '#', '#', '#', '#', '#', '#', '#', '#', '#', '#', '#', '#', '#', '#', '#', '#', '#', '#']\n",
      "TFCCTF{th15_ch4ll3ng3_m4k3s_m3_d1zzy_;d}############################################################\n"
     ]
    }
   ],
   "source": [
    "message = []\n",
    "for j in range(100):\n",
    "    message.append('#')\n",
    "\n",
    "for i in range(len(char_list)):\n",
    "    #message.insert(char_position[i], char_list[i])\n",
    "    message[char_position[i]] = char_list[i]\n",
    "print(message)\n",
    "\n",
    "print(''.join(message))"
   ]
  },
  {
   "cell_type": "markdown",
   "metadata": {},
   "source": [
    "#### Take-home message (!):\n",
    "list.insert(j, m) \n",
    "* See the following cell to understand the functionality of 'insert' for lists\n"
   ]
  },
  {
   "cell_type": "code",
   "execution_count": 25,
   "metadata": {},
   "outputs": [
    {
     "name": "stdout",
     "output_type": "stream",
     "text": [
      "['zero', 'one', 'two', 'three']\n"
     ]
    }
   ],
   "source": [
    "myList = ['one', 'two', 'three']\n",
    "\n",
    "myList.insert(0, 'zero')\n",
    "\n",
    "print(myList)"
   ]
  }
 ],
 "metadata": {
  "kernelspec": {
   "display_name": "neuralhydrology",
   "language": "python",
   "name": "python3"
  },
  "language_info": {
   "codemirror_mode": {
    "name": "ipython",
    "version": 3
   },
   "file_extension": ".py",
   "mimetype": "text/x-python",
   "name": "python",
   "nbconvert_exporter": "python",
   "pygments_lexer": "ipython3",
   "version": "3.7.15"
  },
  "orig_nbformat": 4
 },
 "nbformat": 4,
 "nbformat_minor": 2
}
