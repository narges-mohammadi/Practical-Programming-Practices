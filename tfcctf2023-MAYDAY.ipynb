{
 "cells": [
  {
   "cell_type": "markdown",
   "metadata": {},
   "source": [
    "#### Question\n",
    "We are sinking! The nearest ship got our SOS call, but they replied in pure gobbledygook! Are ye savvy enough to decode the message, or will we be sleepin' with the fish tonight? All hands on deck!\n",
    "\n",
    "Whiskey Hotel Four Tango Dash Alpha Romeo Three Dash Yankee Oscar Uniform Dash Sierra One November Kilo India November Golf Dash Four Bravo Zero Uniform Seven\n",
    "\n",
    "Flag format: TFCCTF{RESUL7-H3R3}"
   ]
  },
  {
   "cell_type": "code",
   "execution_count": 2,
   "metadata": {},
   "outputs": [],
   "source": [
    "crypted_message = 'Whiskey Hotel Four Tango Dash Alpha Romeo Three Dash Yankee Oscar Uniform Dash Sierra One November Kilo India November Golf Dash Four Bravo Zero Uniform Seven'"
   ]
  },
  {
   "cell_type": "code",
   "execution_count": 38,
   "metadata": {},
   "outputs": [
    {
     "name": "stdout",
     "output_type": "stream",
     "text": [
      "['Whiskey', 'Hotel', 'Four', 'Tango', 'Dash', 'Alpha', 'Romeo', 'Three', 'Dash', 'Yankee', 'Oscar', 'Uniform', 'Dash', 'Sierra', 'One', 'November', 'Kilo', 'India', 'November', 'Golf', 'Dash', 'Four', 'Bravo', 'Zero', 'Uniform', 'Seven']\n"
     ]
    }
   ],
   "source": [
    "crypted_words = str.split(crypted_message)\n",
    "print(crypted_words)"
   ]
  },
  {
   "cell_type": "code",
   "execution_count": 12,
   "metadata": {},
   "outputs": [
    {
     "name": "stdout",
     "output_type": "stream",
     "text": [
      "{'Alpha': 'A', 'Bravo': 'B', 'Charlie': 'C', 'Delta': 'D', 'Echo': 'E', 'Foxtrot': 'F', 'Golf': 'G', 'Hotel': 'H', 'India': 'I', 'Juliett': 'J', 'Kilo': 'K', 'Lima': 'L', 'Mike': 'M', 'November': 'N', 'Oscar': 'O', 'Papa': 'P', 'Quebec': 'Q', 'Romeo': 'R', 'Sierra': 'S', 'Tango': 'T', 'Uniform': 'U', 'Victor': 'V', 'Whiskey': 'W', 'X-ray': 'X', 'Yankee': 'Y', 'Zulu': 'Z', 'Dash': '–'}\n"
     ]
    }
   ],
   "source": [
    "# Translate to NATO Phonetic Alphabet\n",
    "# Useful hint on the type of encryption from 'cipher identifier': 'https://www.dcode.fr/cipher-identifier'\n",
    "d =  {\n",
    "        'A': 'Alpha',  'B': 'Bravo',   'C': 'Charlie',\n",
    "        'D': 'Delta',  'E': 'Echo',    'F': 'Foxtrot',\n",
    "        'G': 'Golf',   'H': 'Hotel',   'I': 'India',\n",
    "        'J': 'Juliett','K': 'Kilo',    'L': 'Lima',\n",
    "        'M': 'Mike',   'N': 'November','O': 'Oscar',\n",
    "        'P': 'Papa',   'Q': 'Quebec',  'R': 'Romeo',\n",
    "        'S': 'Sierra', 'T': 'Tango',   'U': 'Uniform',\n",
    "        'V': 'Victor', 'W': 'Whiskey', 'X': 'X-ray',\n",
    "        'Y': 'Yankee', 'Z': 'Zulu', '–' : 'Dash'}\n",
    "\n",
    "d_swap = {v: k for k, v in d.items()}\n",
    "print(d_swap)"
   ]
  },
  {
   "cell_type": "code",
   "execution_count": 32,
   "metadata": {},
   "outputs": [],
   "source": [
    "def switch_case(case_value):\n",
    "    switch_dict = {\n",
    "        \"Zero\": '0',\n",
    "        \"One\": '1',\n",
    "        \"Two\": '2',\n",
    "        \"Three\": '3',\n",
    "        \"Four\": '4', \n",
    "        \"Five\": '5',\n",
    "        \"Six\": '6',\n",
    "        \"Seven\": '7',\n",
    "        \"Eight\": '8',\n",
    "        \"Nine\": '9'\n",
    "    }\n",
    "    return(switch_dict.get(case_value))"
   ]
  },
  {
   "cell_type": "code",
   "execution_count": 37,
   "metadata": {},
   "outputs": [
    {
     "name": "stdout",
     "output_type": "stream",
     "text": [
      "['Whiskey', 'Hotel', 'Four', 'Tango', 'Dash', 'Alpha', 'Romeo', 'Three', 'Dash', 'Yankee', 'Oscar', 'Uniform', 'Dash', 'Sierra', 'One', 'November', 'Kilo', 'India', 'November', 'Golf', 'Dash', 'Four', 'Bravo', 'Zero', 'Uniform', 'Seven']\n",
      "['W', 'H', '4', 'T', '–', 'A', 'R', '3', '–', 'Y', 'O', 'U', '–', 'S', '1', 'N', 'K', 'I', 'N', 'G', '–', '4', 'B', '0', 'U', '7']\n",
      "Flag format: TFCCTF WH4T–AR3–YOU–S1NKING–4B0U7 \n"
     ]
    }
   ],
   "source": [
    "decrypted_message = []\n",
    "for word in crypted_words:\n",
    "    if d_swap.get(word) != None:\n",
    "        decrypted_message.append(d_swap.get(word))\n",
    "    else:\n",
    "        decrypted_message.append(switch_case(word))\n",
    "    \n",
    "print(decrypted_message)\n",
    "final_result = \"\".join(decrypted_message)\n",
    "print('Flag format: TFCCTF {} '.format(final_result))"
   ]
  }
 ],
 "metadata": {
  "kernelspec": {
   "display_name": "neuralhydrology",
   "language": "python",
   "name": "neuralhydrology"
  },
  "language_info": {
   "codemirror_mode": {
    "name": "ipython",
    "version": 3
   },
   "file_extension": ".py",
   "mimetype": "text/x-python",
   "name": "python",
   "nbconvert_exporter": "python",
   "pygments_lexer": "ipython3",
   "version": "3.7.15"
  },
  "orig_nbformat": 4
 },
 "nbformat": 4,
 "nbformat_minor": 2
}
